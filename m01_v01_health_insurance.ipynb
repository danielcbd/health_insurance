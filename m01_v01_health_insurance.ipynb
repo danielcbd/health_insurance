{
 "cells": [
  {
   "cell_type": "code",
   "execution_count": 4,
   "id": "454eeb13",
   "metadata": {
    "ExecuteTime": {
     "end_time": "2023-08-24T12:35:51.908328Z",
     "start_time": "2023-08-24T12:35:50.904044Z"
    }
   },
   "outputs": [],
   "source": [
    "import pandas as pd"
   ]
  },
  {
   "cell_type": "code",
   "execution_count": 3,
   "id": "b76e8e5b",
   "metadata": {
    "ExecuteTime": {
     "end_time": "2023-08-24T12:35:42.656105Z",
     "start_time": "2023-08-24T12:35:42.638792Z"
    }
   },
   "outputs": [],
   "source": [
    "path = '../data/train.csv'"
   ]
  },
  {
   "cell_type": "code",
   "execution_count": 6,
   "id": "04e3a79c",
   "metadata": {
    "ExecuteTime": {
     "end_time": "2023-08-24T12:36:24.481583Z",
     "start_time": "2023-08-24T12:36:24.156311Z"
    }
   },
   "outputs": [],
   "source": [
    "data = pd.read_csv(path)"
   ]
  },
  {
   "cell_type": "code",
   "execution_count": 13,
   "id": "28018af7",
   "metadata": {
    "ExecuteTime": {
     "end_time": "2023-08-24T12:37:59.264149Z",
     "start_time": "2023-08-24T12:37:59.204711Z"
    }
   },
   "outputs": [
    {
     "data": {
      "text/plain": [
       "id                      381109\n",
       "Gender                  381109\n",
       "Age                     381109\n",
       "Driving_License         381109\n",
       "Region_Code             381109\n",
       "Previously_Insured      381109\n",
       "Vehicle_Age             381109\n",
       "Vehicle_Damage          381109\n",
       "Annual_Premium          381109\n",
       "Policy_Sales_Channel    381109\n",
       "Vintage                 381109\n",
       "Response                381109\n",
       "dtype: int64"
      ]
     },
     "execution_count": 13,
     "metadata": {},
     "output_type": "execute_result"
    }
   ],
   "source": []
  },
  {
   "cell_type": "code",
   "execution_count": null,
   "id": "10499de0",
   "metadata": {},
   "outputs": [],
   "source": []
  }
 ],
 "metadata": {
  "kernelspec": {
   "display_name": "Python 3 (ipykernel)",
   "language": "python",
   "name": "python3"
  },
  "language_info": {
   "codemirror_mode": {
    "name": "ipython",
    "version": 3
   },
   "file_extension": ".py",
   "mimetype": "text/x-python",
   "name": "python",
   "nbconvert_exporter": "python",
   "pygments_lexer": "ipython3",
   "version": "3.10.0"
  }
 },
 "nbformat": 4,
 "nbformat_minor": 5
}
